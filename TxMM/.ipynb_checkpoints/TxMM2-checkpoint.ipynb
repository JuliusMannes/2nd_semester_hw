{
 "cells": [
  {
   "cell_type": "code",
   "execution_count": 1,
   "metadata": {},
   "outputs": [
    {
     "name": "stdout",
     "output_type": "stream",
     "text": [
      "Requirement already satisfied: tabulate in /Users/juliusmannes/anaconda3/lib/python3.6/site-packages (0.8.5)\n",
      "\u001b[33mWARNING: You are using pip version 19.1.1, however version 19.2.3 is available.\n",
      "You should consider upgrading via the 'pip install --upgrade pip' command.\u001b[0m\n"
     ]
    }
   ],
   "source": [
    "from nltk.tokenize import sent_tokenize\n",
    "!pip install tabulate\n",
    "import re\n",
    "from tabulate import tabulate\n",
    "file = open('Aretha.txt', 'r').read()\n",
    "#sentences = sent_tokenize(file)"
   ]
  },
  {
   "cell_type": "code",
   "execution_count": 2,
   "metadata": {
    "collapsed": true
   },
   "outputs": [],
   "source": [
    "#I used this for tokenizing the sentences, as nltk's tokenizer did not process edge cases correctly.\n",
    "#retrieved from https://stackoverflow.com/questions/4576077/python-split-text-on-sentences\n",
    "\n",
    "alphabets= \"([A-Za-z])\"\n",
    "prefixes = \"(Mr|St|Mrs|Ms|Dr)[.]\"\n",
    "suffixes = \"(Inc|Ltd|Jr|Sr|Co)\"\n",
    "starters = \"(Mr|Mrs|Ms|Dr|He\\s|She\\s|It\\s|They\\s|Their\\s|Our\\s|We\\s|But\\s|However\\s|That\\s|This\\s|Wherever)\"\n",
    "acronyms = \"([A-Z][.][A-Z][.](?:[A-Z][.])?)\"\n",
    "websites = \"[.](com|net|org|io|gov)\"\n",
    "\n",
    "def split_into_sentences(text):\n",
    "    text = \" \" + text + \"  \"\n",
    "    text = text.replace(\"\\n\",\" \")\n",
    "    text = re.sub(prefixes,\"\\\\1<prd>\",text)\n",
    "    text = re.sub(websites,\"<prd>\\\\1\",text)\n",
    "    if \"Ph.D\" in text: text = text.replace(\"Ph.D.\",\"Ph<prd>D<prd>\")\n",
    "    text = re.sub(\"\\s\" + alphabets + \"[.] \",\" \\\\1<prd> \",text)\n",
    "    text = re.sub(acronyms+\" \"+starters,\"\\\\1<stop> \\\\2\",text)\n",
    "    text = re.sub(alphabets + \"[.]\" + alphabets + \"[.]\" + alphabets + \"[.]\",\"\\\\1<prd>\\\\2<prd>\\\\3<prd>\",text)\n",
    "    text = re.sub(alphabets + \"[.]\" + alphabets + \"[.]\",\"\\\\1<prd>\\\\2<prd>\",text)\n",
    "    text = re.sub(\" \"+suffixes+\"[.] \"+starters,\" \\\\1<stop> \\\\2\",text)\n",
    "    text = re.sub(\" \"+suffixes+\"[.]\",\" \\\\1<prd>\",text)\n",
    "    text = re.sub(\" \" + alphabets + \"[.]\",\" \\\\1<prd>\",text)\n",
    "    if \"”\" in text: text = text.replace(\".”\",\"”.\")\n",
    "    if \"\\\"\" in text: text = text.replace(\".\\\"\",\"\\\".\")\n",
    "    if \"!\" in text: text = text.replace(\"!\\\"\",\"\\\"!\")\n",
    "    if \"?\" in text: text = text.replace(\"?\\\"\",\"\\\"?\")\n",
    "    text = text.replace(\".\",\".<stop>\")\n",
    "    text = text.replace(\"?\",\"?<stop>\")\n",
    "    text = text.replace(\"!\",\"!<stop>\")\n",
    "    text = text.replace(\"<prd>\",\".\")\n",
    "    sentences = text.split(\"<stop>\")\n",
    "    sentences = sentences[:-1]\n",
    "    sentences = [s.strip() for s in sentences]\n",
    "    return sentences"
   ]
  },
  {
   "cell_type": "code",
   "execution_count": 3,
   "metadata": {
    "collapsed": true
   },
   "outputs": [],
   "source": [
    "sentences = split_into_sentences(file)"
   ]
  },
  {
   "cell_type": "code",
   "execution_count": 4,
   "metadata": {
    "collapsed": true
   },
   "outputs": [],
   "source": [
    "def has_date(sentence):\n",
    "    pattern = '((\\d.{0,2})(\\d.{0,2}).(\\d{1,4})|January( (\\d{0,4})){0,1}(, \\d{1,4}){0,1}|February( (\\d{0,4})){0,1}(, \\d{1,4}){0,1}|March( (\\d{0,4})){0,1}(, \\d{1,4}){0,1}|April( (\\d{0,4})){0,1}(, \\d{1,4}){0,1}|May( (\\d{0,4})){0,1}(, \\d{1,4}){0,1}|June( (\\d{0,4})){0,1}(, \\d{1,4}){0,1}|July( (\\d{0,4})){0,1}(, \\d{1,4}){0,1}|August( (\\d{0,4})){0,1}(, \\d{1,4}){0,1}|September( (\\d{0,4})){0,1}(, \\d{1,4}){0,1}|October( (\\d{0,4})){0,1}(, \\d{1,4}){0,1}|November( (\\d{0,4})){0,1}(, \\d{1,4}){0,1}|December( (\\d{0,4})){0,1}(, \\d{1,4}){0,1}){1,10}'\n",
    "    match = re.findall(pattern, sentence) \n",
    "    return match\n"
   ]
  },
  {
   "cell_type": "code",
   "execution_count": 5,
   "metadata": {
    "collapsed": true
   },
   "outputs": [],
   "source": [
    "def extract_dates(sentences):\n",
    "    dates = []\n",
    "    context = []\n",
    "    for sentence in sentences: \n",
    "        match = has_date(sentence)\n",
    "        if match:\n",
    "            for m in match:\n",
    "                dates.append(m[0].replace(\",\",\"\"))\n",
    "                context.append(sentence)\n",
    "    return dates, context"
   ]
  },
  {
   "cell_type": "code",
   "execution_count": 6,
   "metadata": {
    "collapsed": true
   },
   "outputs": [],
   "source": [
    "def convert_to_iso(date):\n",
    "    months = [\"January\",\"February\",\"March\",\"April\",\"May\",\"June\",\"July\",\"August\",\"September\",\"October\",\"November\",\"December\"]\n",
    "    iso = \"YYYY-MM-DD\"\n",
    "    date = date.split()\n",
    "    for element in date: \n",
    "        if len(element)==4:\n",
    "            iso = iso.replace(\"YYYY\",str(element))\n",
    "        if (len(element)==2)or(len(element)==1):\n",
    "            iso = iso.replace(\"DD\",element)\n",
    "        else:\n",
    "            for i in range(0,len(months)):\n",
    "                if element == months[i]:\n",
    "                    iso = iso.replace(\"MM\",str(i+1))\n",
    "    return iso"
   ]
  },
  {
   "cell_type": "code",
   "execution_count": 7,
   "metadata": {
    "collapsed": true
   },
   "outputs": [],
   "source": [
    "def clean_iso(dates):\n",
    "    iso_dates = []\n",
    "    for i in range(0, len(dates)):\n",
    "        iso = convert_to_iso(dates[i]).replace(\"-MM\",\"\").replace(\"-DD\",\"\")\n",
    "        if \"YYYY\" in iso: #we want to find the last used year \n",
    "            year_count = i\n",
    "            pattern = \"(\\d{4,4})\"\n",
    "            while(year_count>0):\n",
    "                match = re.search(pattern,dates[year_count])\n",
    "                if match:\n",
    "                    iso=iso.replace(\"YYYY\",match.group())\n",
    "                    break\n",
    "                else:\n",
    "                    year_count-=1\n",
    "        iso_dates.append(iso)\n",
    "    return iso_dates\n"
   ]
  },
  {
   "cell_type": "code",
   "execution_count": 8,
   "metadata": {
    "collapsed": true
   },
   "outputs": [],
   "source": [
    "def sort_by_year(iso_dates,context):\n",
    "    dates_and_context = zip(iso_dates, context)\n",
    "    return sorted(dates_and_context)"
   ]
  },
  {
   "cell_type": "code",
   "execution_count": 9,
   "metadata": {},
   "outputs": [
    {
     "name": "stdout",
     "output_type": "stream",
     "text": [
      "\\begin{tabular}{ll}\n",
      "\\hline\n",
      " Date      & Context                                                                                                                                                                                                                                                                                                                      \\\\\n",
      "\\hline\n",
      " 1942      & Aretha Franklin was born in Memphis, Tennessee, in 1942.                                                                                                                                                                                                                                                                     \\\\\n",
      " 1942-3-25 & Early Life \\& Career The fourth of five children, Aretha Louise Franklin was born on March 25, 1942, in Memphis, Tennessee, to Baptist preacher Reverend Clarence La Vaughan \"C.                                                                                                                                              \\\\\n",
      " 1956      & By the age of 14, she had recorded some of her earliest tracks at his church, which were released by a small label as the album Songs of Faith in 1956.                                                                                                                                                                      \\\\\n",
      " 1960      & In 1960, with her father's blessing, Franklin traveled to New York, where after being courted by several labels, including Motown and RCA, she signed with Columbia Records, who released the album Aretha in 1961.                                                                                                          \\\\\n",
      " 1961      & In 1960, with her father's blessing, Franklin traveled to New York, where after being courted by several labels, including Motown and RCA, she signed with Columbia Records, who released the album Aretha in 1961.                                                                                                          \\\\\n",
      " 1966      & In 1966 she and her new husband and manager, Ted White, decided a move was in order, and Franklin signed to Atlantic.                                                                                                                                                                                                        \\\\\n",
      " 1967      & 'Respect' Hitting her stride in 1967 and 1968, Franklin churned out a string of hit singles that would become enduring classics, showcasing Franklin's powerful voice and gospel roots in a pop framework.                                                                                                                   \\\\\n",
      " 1967      & In 1967, the album I Never Loved a Man (The Way I Love You) was released, and the first song on the album, \"Respect\" — an empowered cover of an Otis Redding track — reached No.                                                                                                                                             \\\\\n",
      " 1968      & 'Respect' Hitting her stride in 1967 and 1968, Franklin churned out a string of hit singles that would become enduring classics, showcasing Franklin's powerful voice and gospel roots in a pop framework.                                                                                                                   \\\\\n",
      " 1968      & In 1968 Franklin was enlisted to perform at the funeral of Dr. Martin Luther King Jr. during which she paid tribute to her father's fallen friend with a heartfelt rendition of \"Precious Lord\".                                                                                                                             \\\\\n",
      " 1969      & Amidst this newfound success, Franklin experienced upheaval in her personal life, and she and White divorced in 1969.                                                                                                                                                                                                        \\\\\n",
      " 1970      & Franklin's success continued throughout the 1970s, as she branched out to work with producers such as Curtis Mayfield and Quincy Jones and expanded her repertoire to include rock and pop covers.                                                                                                                           \\\\\n",
      " 1970-5    & Franklin's success continued throughout the 1970s, as she branched out to work with producers such as Curtis Mayfield and Quincy Jones and expanded her repertoire to include rock and pop covers.                                                                                                                           \\\\\n",
      " 1972      & 'Amazing Grace' Spurred by Mahalia Jackson's passing and a subsequent resurgence of interest in gospel music, Franklin returned to her musical origins for the 1972 album Amazing Grace, which sold more than 2 million copies and went on to become the best-selling gospel album at the time.                              \\\\\n",
      " 1974      & Along the way, she took home eight consecutive Grammy Awards for Best R\\&B Female Vocal Performance, the last coming for her 1974 single \"Ain't Nothing Like the Real Thing\".                                                                                                                                                 \\\\\n",
      " 1975      & Career Struggles But by 1975, Franklin's sound was fading into the background with the onset of the disco craze, and an emerging set of young black singers, such as Chaka Khan and Donna Summer, began to eclipse Franklin's career.                                                                                        \\\\\n",
      " 1976      & She did, however, find a brief respite from slumping sales with the 1976 soundtrack to the Warner Brothers film Sparkle — which topped the R\\&B charts and made the Top 20 in pop — as well as an invitation to perform at the 1977 presidential inauguration of Jimmy Carter.                                                \\\\\n",
      " 1977      & She did, however, find a brief respite from slumping sales with the 1976 soundtrack to the Warner Brothers film Sparkle — which topped the R\\&B charts and made the Top 20 in pop — as well as an invitation to perform at the 1977 presidential inauguration of Jimmy Carter.                                                \\\\\n",
      " 1978      & In 1978 she also married actor Glynn Turman.                                                                                                                                                                                                                                                                                 \\\\\n",
      " 1979      & A string of chart failures ended Franklin's relationship with Atlantic in 1979.                                                                                                                                                                                                                                              \\\\\n",
      " 1980      & However, a cameo in the 1980 film The Blues Brothers helped Franklin revive her flagging career.                                                                                                                                                                                                                             \\\\\n",
      " 1980      & More Albums \\& Songs: 1980s and On 'Who's Zoomin' Who?                                                                                                                                                                                                                                                                        \\\\\n",
      " 1982      & Her new label released 1982's Jump To It, an album that enjoyed huge success on the R\\&B charts and earned Franklin a Grammy nomination.                                                                                                                                                                                      \\\\\n",
      " 1985      & ' In 1985 Franklin returned to the top of the charts with a smash-hit album: the polished pop record Who's Zoomin' Who?                                                                                                                                                                                                      \\\\\n",
      " 1986      & 'I Knew You Were Waiting (For Me)' Her follow-up, 1986's Aretha, also charted well and eventually went gold, and her duet with British singer George Michael, \"I Knew You Were Waiting (For Me),'' hit No.                                                                                                                   \\\\\n",
      " 1987      & In 1987 Franklin became the first female artist to be inducted into the Rock and Roll Hall of Fame and was also awarded an honorary doctorate from the University of Detroit.                                                                                                                                                \\\\\n",
      " 1987      & In 1987 she became the first female artist to be inducted into the Rock and Roll Hall of Fame, and in 2008 she won her 18th Grammy Award, making her one of the most honored artists in Grammy history.                                                                                                                      \\\\\n",
      " 1993      & Following another relatively quiet period in her career, in 1993, Franklin was invited to sing at the inauguration of Bill Clinton, and the following year she received both a Grammy Lifetime Achievement Award and Kennedy Center Honors.                                                                                  \\\\\n",
      " 2000      & 'A Rose Is Still a Rose' Nearing its conclusion, Franklin reprised her former role in Blues Brothers 2000, released the gold-selling \"A Rose Is Still a Rose\" and stood in for Luciano Pavarotti, who was too ill to accept his Lifetime Achievement Award, with her rendition of \"Nessun Dorma\" commanding stellar reviews. \\\\\n",
      " 2003      & 'So Damn Happy' In 2003 Franklin released her final studio album on Arista, So Damn Happy, and left the label to found Aretha Records.                                                                                                                                                                                       \\\\\n",
      " 2008      & In 1987 she became the first female artist to be inducted into the Rock and Roll Hall of Fame, and in 2008 she won her 18th Grammy Award, making her one of the most honored artists in Grammy history.                                                                                                                      \\\\\n",
      " 2008      & In 2008 she received her 18th Grammy Award for \"Never Gonna Break My Faith\" — a collaboration with Mary J. Blige — and was tapped to sing at the 2009 presidential inauguration of Barack Obama.                                                                                                                             \\\\\n",
      " 2009      & In 2008 she received her 18th Grammy Award for \"Never Gonna Break My Faith\" — a collaboration with Mary J. Blige — and was tapped to sing at the 2009 presidential inauguration of Barack Obama.                                                                                                                             \\\\\n",
      " 2011      & In 2011 Franklin released her first album on her own label, A Woman Falling Out of Love.                                                                                                                                                                                                                                     \\\\\n",
      " 2014      & 'Aretha Franklin Sings the Great Diva Classics' In 2014 Franklin underscored that point with Aretha Franklin Sings the Great Diva Classics, which reached No.                                                                                                                                                                \\\\\n",
      " 2017-2    & In February 2017, the 74-year-old Queen of Soul told Detroit radio station WDIV Local 4 that she was collaborating with Stevie Wonder to release a new album.                                                                                                                                                                \\\\\n",
      " 2018-1    & In January 2018, it was announced that Franklin had hand-picked singer and actress Jennifer Hudson to play her in an upcoming biopic.                                                                                                                                                                                        \\\\\n",
      " 2018-8-12 & Death On August 12, 2018, it was reported that a \"gravely ill\" Franklin was bedridden in her Detroit home, surrounded by family and friends.                                                                                                                                                                                 \\\\\n",
      " 2018-8-16 & Four days later, on the morning of August 16th, Franklin succumbed to her illness, which her family revealed to be pancreatic cancer.                                                                                                                                                                                        \\\\\n",
      " 2018-8-31 & Her televised funeral was set to be held at the city's Greater Grace Temple on August 31, with Wonder, Chaka Khan and Jennifer Hudson among the scheduled performers, and Jackson, Bill Clinton and Smokey Robinson highlighting the list of speakers.                                                                       \\\\\n",
      "\\hline\n",
      "\\end{tabular}\n"
     ]
    }
   ],
   "source": [
    "dates,context = extract_dates(sentences)\n",
    "table_data = sort_by_year(clean_iso(dates),context)\n",
    "\n",
    "#print(table_data[0])\n",
    "print(tabulate(table_data, headers=['Date', 'Context'],tablefmt=\"latex\"))\n"
   ]
  },
  {
   "cell_type": "code",
   "execution_count": null,
   "metadata": {
    "collapsed": true
   },
   "outputs": [],
   "source": []
  },
  {
   "cell_type": "code",
   "execution_count": null,
   "metadata": {
    "collapsed": true
   },
   "outputs": [],
   "source": []
  }
 ],
 "metadata": {
  "kernelspec": {
   "display_name": "Python 3",
   "language": "python",
   "name": "python3"
  },
  "language_info": {
   "codemirror_mode": {
    "name": "ipython",
    "version": 3
   },
   "file_extension": ".py",
   "mimetype": "text/x-python",
   "name": "python",
   "nbconvert_exporter": "python",
   "pygments_lexer": "ipython3",
   "version": "3.6.8"
  }
 },
 "nbformat": 4,
 "nbformat_minor": 2
}
