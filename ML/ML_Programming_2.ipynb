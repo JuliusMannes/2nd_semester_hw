{
 "cells": [
  {
   "cell_type": "markdown",
   "metadata": {},
   "source": [
    "## Load data and extract 3's and 7's"
   ]
  },
  {
   "cell_type": "code",
   "execution_count": 298,
   "metadata": {
    "collapsed": true
   },
   "outputs": [],
   "source": [
    "import numpy as np\n",
    "import matplotlib.pyplot as plt\n",
    "from scipy.io import loadmat\n",
    "import math\n"
   ]
  },
  {
   "cell_type": "code",
   "execution_count": 442,
   "metadata": {
    "collapsed": true
   },
   "outputs": [],
   "source": [
    "mnist = loadmat(\"mnist.mat\")\n",
    "data = mnist['mnist']\n",
    "X_train = np.array(data[0][0][0])\n",
    "X_test  = np.array(data[0][0][1])\n",
    "Y_train = np.array(data[0][0][2])\n",
    "Y_test = np.array(data[0][0][3])\n",
    "\n"
   ]
  },
  {
   "cell_type": "code",
   "execution_count": 443,
   "metadata": {
    "collapsed": true
   },
   "outputs": [],
   "source": [
    "tr_indices = [i for i in range(len(Y_train)) if Y_train[i]==3 or Y_train[i]==7]\n",
    "Y_train = Y_train[tr_indices]\n",
    "X_train = X_train[:,:,tr_indices]\n",
    "\n",
    "te_indices = [i for i in range(len(Y_test)) if Y_test[i]==3 or Y_test[i]==7]\n",
    "Y_test = Y_test[te_indices]\n",
    "X_test = X_test[:,:,te_indices]"
   ]
  },
  {
   "cell_type": "code",
   "execution_count": 444,
   "metadata": {},
   "outputs": [
    {
     "name": "stdout",
     "output_type": "stream",
     "text": [
      "(28, 28, 12396)\n",
      "(12396, 1)\n",
      "(28, 28, 2038)\n",
      "(2038, 1)\n"
     ]
    }
   ],
   "source": [
    "print(X_train.shape)\n",
    "print(Y_train.shape)\n",
    "print(X_test.shape)\n",
    "print(Y_test.shape)"
   ]
  },
  {
   "cell_type": "markdown",
   "metadata": {},
   "source": [
    "## I hereby declare all 3's to be 0's and 7's to be 1's"
   ]
  },
  {
   "cell_type": "code",
   "execution_count": 445,
   "metadata": {
    "collapsed": true
   },
   "outputs": [],
   "source": [
    "Y_train = np.array([0 if i==3 else 1 for i in Y_train])\n",
    "Y_test = np.array([0 if i==3 else 1 for i in Y_test])\n",
    "X_train = X_train/X_train.max()\n",
    "X_test = X_test/X_test.max()"
   ]
  },
  {
   "cell_type": "code",
   "execution_count": 474,
   "metadata": {
    "collapsed": true
   },
   "outputs": [],
   "source": [
    "def sigmoid(x):\n",
    "    return 1 / (1 + np.exp(-x))"
   ]
  },
  {
   "cell_type": "code",
   "execution_count": 475,
   "metadata": {
    "collapsed": true
   },
   "outputs": [],
   "source": [
    "def predict(weights,X):\n",
    "    z = np.sum((np.multiply(weights,X.T)),axis=(1,2))\n",
    "    z = np.array([sigmoid(i) for i in z])\n",
    "    return z"
   ]
  },
  {
   "cell_type": "code",
   "execution_count": 476,
   "metadata": {
    "collapsed": true
   },
   "outputs": [],
   "source": [
    "def NLL(predictions,targets):\n",
    "    epsilon = 1e-5\n",
    "    return -np.multiply((1/predictions.shape[0]),np.sum((np.multiply(targets,np.log(epsilon+ predictions)) + np.multiply((np.ones(targets.shape)-targets),(np.log(epsilon + np.ones(predictions.shape)-predictions))))))"
   ]
  },
  {
   "cell_type": "code",
   "execution_count": 477,
   "metadata": {
    "collapsed": true
   },
   "outputs": [],
   "source": [
    "def gradient(predictions,targets,inputs):\n",
    "    return np.multiply((1/predictions.shape[0]),np.sum(np.multiply((predictions-targets),inputs),axis=2))"
   ]
  },
  {
   "cell_type": "code",
   "execution_count": 495,
   "metadata": {
    "collapsed": true
   },
   "outputs": [],
   "source": [
    "def weight_update(weights,gradient,eta):\n",
    "    return -eta*gradient"
   ]
  },
  {
   "cell_type": "code",
   "execution_count": 520,
   "metadata": {
    "collapsed": true
   },
   "outputs": [],
   "source": [
    "def train(X_train,X_test,Y_train,Y_test,weights,epochs):\n",
    "    eta = 0.2\n",
    "    train_errors = []\n",
    "    test_errors = []\n",
    "    best_loss = 1000\n",
    "    gradients = []\n",
    "    eta_count = 0\n",
    "    for i in range(0,epochs):\n",
    "        p_train = predict(weights,X_train)\n",
    "        p_test = predict(weights,X_test)\n",
    "        train_loss = NLL(p_train,Y_train)\n",
    "        test_loss = NLL(p_test,Y_test)\n",
    "        if train_loss > best_loss:\n",
    "            eta_count += 1\n",
    "            if eta_count == 20:\n",
    "                eta_count = 0\n",
    "                eta *= 0.5\n",
    "        else:\n",
    "            best_loss = train_loss\n",
    "            eta_count = 0\n",
    "        train_errors.append(train_loss)\n",
    "        test_errors.append(test_loss)\n",
    "        grad = gradient(p_train,Y_train,X_train)\n",
    "        gradients.append(grad)\n",
    "        weights += weight_update(weights,grad,eta)\n",
    "    return p, train_errors,test_errors, weights, gradients"
   ]
  },
  {
   "cell_type": "code",
   "execution_count": 525,
   "metadata": {},
   "outputs": [
    {
     "name": "stdout",
     "output_type": "stream",
     "text": [
      "276.1777081489563\n"
     ]
    }
   ],
   "source": [
    "import time\n",
    "weights = np.random.standard_normal((28,28))\n",
    "start = time.time()\n",
    "p, train_errors,test_errors, weights,gradients = train(X_train,X_test,Y_train,Y_test,weights,3000)\n",
    "end = time.time()\n",
    "print(end - start)"
   ]
  },
  {
   "cell_type": "code",
   "execution_count": 526,
   "metadata": {
    "collapsed": true
   },
   "outputs": [],
   "source": [
    "epochs = np.arange(3000)"
   ]
  },
  {
   "cell_type": "code",
   "execution_count": 527,
   "metadata": {},
   "outputs": [
    {
     "data": {
      "image/png": "[encoded data removed]",
      "text/plain": [
       "<Figure size 432x288 with 1 Axes>"
      ]
     },
     "metadata": {},
     "output_type": "display_data"
    }
   ],
   "source": [
    "plt.plot(epochs,train_errors,color=\"red\")\n",
    "plt.plot(epochs,test_errors,color=\"green\")\n",
    "plt.show()"
   ]
  },
  {
   "cell_type": "code",
   "execution_count": 531,
   "metadata": {
    "collapsed": true
   },
   "outputs": [],
   "source": [
    "p_train = predict(weights,X_train)\n",
    "p_test = predict(weights,X_test)"
   ]
  },
  {
   "cell_type": "code",
   "execution_count": 532,
   "metadata": {
    "collapsed": true
   },
   "outputs": [],
   "source": [
    "train_error = NLL(p_train,Y_train)\n",
    "test_error = NLL(p_test,Y_test)"
   ]
  },
  {
   "cell_type": "code",
   "execution_count": 533,
   "metadata": {},
   "outputs": [
    {
     "name": "stdout",
     "output_type": "stream",
     "text": [
      "0.5875473098236772\n",
      "0.4857397263097848\n"
     ]
    }
   ],
   "source": [
    "print(train_error)\n",
    "print(test_error)"
   ]
  },
  {
   "cell_type": "code",
   "execution_count": 524,
   "metadata": {},
   "outputs": [
    {
     "ename": "AttributeError",
     "evalue": "module 'numpy' has no attribute 'softmax'",
     "output_type": "error",
     "traceback": [
      "\u001b[0;31m---------------------------------------------------------------------------\u001b[0m",
      "\u001b[0;31mAttributeError\u001b[0m                            Traceback (most recent call last)",
      "\u001b[0;32m<ipython-input-524-bea0f3a7bb01>\u001b[0m in \u001b[0;36m<module>\u001b[0;34m()\u001b[0m\n\u001b[0;32m----> 1\u001b[0;31m \u001b[0msoft_train\u001b[0m \u001b[0;34m=\u001b[0m \u001b[0mnp\u001b[0m\u001b[0;34m.\u001b[0m\u001b[0msoftmax\u001b[0m\u001b[0;34m(\u001b[0m\u001b[0mp_train\u001b[0m\u001b[0;34m)\u001b[0m\u001b[0;34m\u001b[0m\u001b[0;34m\u001b[0m\u001b[0m\n\u001b[0m",
      "\u001b[0;31mAttributeError\u001b[0m: module 'numpy' has no attribute 'softmax'"
     ]
    }
   ],
   "source": []
  },
  {
   "cell_type": "code",
   "execution_count": null,
   "metadata": {
    "collapsed": true
   },
   "outputs": [],
   "source": []
  }
 ],
 "metadata": {
  "kernelspec": {
   "display_name": "Python 3",
   "language": "python",
   "name": "python3"
  },
  "language_info": {
   "codemirror_mode": {
    "name": "ipython",
    "version": 3
   },
   "file_extension": ".py",
   "mimetype": "text/x-python",
   "name": "python",
   "nbconvert_exporter": "python",
   "pygments_lexer": "ipython3",
   "version": "3.6.8"
  }
 },
 "nbformat": 4,
 "nbformat_minor": 2
}
