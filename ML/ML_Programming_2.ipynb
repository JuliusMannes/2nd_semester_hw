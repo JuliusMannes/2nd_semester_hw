{
 "cells": [
  {
   "cell_type": "markdown",
   "metadata": {},
   "source": [
    "## Load data and extract 3's and 7's"
   ]
  },
  {
   "cell_type": "code",
   "execution_count": 1,
   "metadata": {
    "collapsed": true
   },
   "outputs": [],
   "source": [
    "import numpy as np\n",
    "import matplotlib.pyplot as plt\n",
    "from scipy.io import loadmat\n",
    "import math\n"
   ]
  },
  {
   "cell_type": "code",
   "execution_count": 2,
   "metadata": {
    "collapsed": true
   },
   "outputs": [],
   "source": [
    "mnist = loadmat(\"mnist.mat\")\n",
    "data = mnist['mnist']\n",
    "X_train = np.array(data[0][0][0])\n",
    "X_test  = np.array(data[0][0][1])\n",
    "Y_train = np.array(data[0][0][2])\n",
    "Y_test = np.array(data[0][0][3])\n",
    "\n"
   ]
  },
  {
   "cell_type": "code",
   "execution_count": 3,
   "metadata": {
    "collapsed": true
   },
   "outputs": [],
   "source": [
    "tr_indices = [i for i in range(len(Y_train)) if Y_train[i]==3 or Y_train[i]==7]\n",
    "Y_train = Y_train[tr_indices]\n",
    "X_train = X_train[:,:,tr_indices]\n",
    "\n",
    "te_indices = [i for i in range(len(Y_test)) if Y_test[i]==3 or Y_test[i]==7]\n",
    "Y_test = Y_test[te_indices]\n",
    "X_test = X_test[:,:,te_indices]"
   ]
  },
  {
   "cell_type": "code",
   "execution_count": 4,
   "metadata": {},
   "outputs": [
    {
     "name": "stdout",
     "output_type": "stream",
     "text": [
      "(28, 28, 12396)\n",
      "(12396, 1)\n",
      "(28, 28, 2038)\n",
      "(2038, 1)\n"
     ]
    }
   ],
   "source": [
    "print(X_train.shape)\n",
    "print(Y_train.shape)\n",
    "print(X_test.shape)\n",
    "print(Y_test.shape)"
   ]
  },
  {
   "cell_type": "markdown",
   "metadata": {},
   "source": [
    "## I hereby declare all 3's to be 0's and 7's to be 1's"
   ]
  },
  {
   "cell_type": "code",
   "execution_count": 5,
   "metadata": {
    "collapsed": true
   },
   "outputs": [],
   "source": [
    "Y_train = np.array([0 if i==3 else 1 for i in Y_train])\n",
    "Y_test = np.array([0 if i==3 else 1 for i in Y_test])\n",
    "X_train = X_train/X_train.max()\n",
    "X_test = X_test/X_test.max()"
   ]
  },
  {
   "cell_type": "markdown",
   "metadata": {},
   "source": [
    "## Only Gradient Descent"
   ]
  },
  {
   "cell_type": "code",
   "execution_count": 6,
   "metadata": {
    "collapsed": true
   },
   "outputs": [],
   "source": [
    "def sigmoid(x):\n",
    "    return 1 / (1 + np.exp(-x))"
   ]
  },
  {
   "cell_type": "code",
   "execution_count": 7,
   "metadata": {
    "collapsed": true
   },
   "outputs": [],
   "source": [
    "def predict(weights,X):\n",
    "    z = np.sum((np.multiply(weights,X.T)),axis=(1,2))\n",
    "    z = np.array([sigmoid(i) for i in z])\n",
    "    return z"
   ]
  },
  {
   "cell_type": "code",
   "execution_count": 8,
   "metadata": {
    "collapsed": true
   },
   "outputs": [],
   "source": [
    "def NLL(predictions,targets):\n",
    "    epsilon = 1e-5\n",
    "    return -np.multiply((1/predictions.shape[0]),np.sum((np.multiply(targets,np.log(epsilon+ predictions)) + np.multiply((np.ones(targets.shape)-targets),(np.log(epsilon + np.ones(predictions.shape)-predictions))))))"
   ]
  },
  {
   "cell_type": "code",
   "execution_count": 9,
   "metadata": {
    "collapsed": true
   },
   "outputs": [],
   "source": [
    "def gradient(predictions,targets,inputs):\n",
    "    return np.multiply((1/predictions.shape[0]),np.sum(np.multiply((predictions-targets),inputs),axis=2))"
   ]
  },
  {
   "cell_type": "code",
   "execution_count": 10,
   "metadata": {
    "collapsed": true
   },
   "outputs": [],
   "source": [
    "def weight_update(weights,gradient,eta):\n",
    "    return -eta*gradient"
   ]
  },
  {
   "cell_type": "code",
   "execution_count": 13,
   "metadata": {
    "collapsed": true
   },
   "outputs": [],
   "source": [
    "def train(X_train,X_test,Y_train,Y_test,weights,epochs):\n",
    "    eta = 0.2\n",
    "    steps = 0\n",
    "    train_errors = []\n",
    "    test_errors = []\n",
    "    best_loss = 1000\n",
    "    best_test_loss = 1000\n",
    "    best_weights = []\n",
    "    gradients = []\n",
    "    train_count = 0 #count to keep track of train loss improvement\n",
    "    test_count = 0 #count to keep track of test loss improvement\n",
    "    for i in range(0,epochs):\n",
    "        steps += 1\n",
    "        p_train = predict(weights,X_train)\n",
    "        p_test = predict(weights,X_test)\n",
    "        train_loss = NLL(p_train,Y_train)\n",
    "        test_loss = NLL(p_test,Y_test)\n",
    "        if test_loss > best_test_loss:\n",
    "            test_count +=1\n",
    "            #if test_count == 25:\n",
    "            #    break\n",
    "        else:\n",
    "            best_test_loss = test_loss\n",
    "            test_count = 0\n",
    "            best_weights = weights\n",
    "        if train_loss > best_loss:\n",
    "            eta_count += 1\n",
    "            if eta_count == 20:\n",
    "                eta_count = 0\n",
    "                eta *= 0.5\n",
    "        else:\n",
    "            best_loss = train_loss\n",
    "            eta_count = 0\n",
    "        train_errors.append(train_loss)\n",
    "        test_errors.append(test_loss)\n",
    "        grad = gradient(p_train,Y_train,X_train)\n",
    "        gradients.append(grad)\n",
    "        weights = weights + weight_update(weights,grad,eta)\n",
    "    return p_train,p_test, train_errors,test_errors, best_weights, gradients, steps"
   ]
  },
  {
   "cell_type": "code",
   "execution_count": 14,
   "metadata": {},
   "outputs": [
    {
     "name": "stdout",
     "output_type": "stream",
     "text": [
      "31.251097917556763\n"
     ]
    }
   ],
   "source": [
    "import time\n",
    "weights = np.random.standard_normal((28,28))\n",
    "start = time.time()\n",
    "p_train,p_test,train_errors,test_errors, best_weights,gradients,steps = train(X_train,X_test,Y_train,Y_test,weights,300)\n",
    "end = time.time()\n",
    "print(end - start)"
   ]
  },
  {
   "cell_type": "code",
   "execution_count": 15,
   "metadata": {
    "collapsed": true
   },
   "outputs": [],
   "source": [
    "n = np.arange(300)"
   ]
  },
  {
   "cell_type": "code",
   "execution_count": 17,
   "metadata": {},
   "outputs": [
    {
     "data": {
      "image/png": "[encoded data removed]",
      "text/plain": [
       "<Figure size 432x288 with 1 Axes>"
      ]
     },
     "metadata": {},
     "output_type": "display_data"
    }
   ],
   "source": [
    "plt.plot(n,train_errors,color=\"red\",label=\"train\")\n",
    "plt.plot(n,test_errors,color=\"green\", label=\"test\")\n",
    "plt.xlabel(\"Epoch\")\n",
    "plt.ylabel(\"Error\")\n",
    "plt.legend()\n",
    "plt.show()"
   ]
  },
  {
   "cell_type": "code",
   "execution_count": 18,
   "metadata": {
    "collapsed": true
   },
   "outputs": [],
   "source": [
    "p_train = predict(best_weights,X_train)\n",
    "p_test = predict(best_weights,X_test)"
   ]
  },
  {
   "cell_type": "code",
   "execution_count": 19,
   "metadata": {
    "collapsed": true
   },
   "outputs": [],
   "source": [
    "train_error = NLL(p_train,Y_train)\n",
    "test_error = NLL(p_test,Y_test)"
   ]
  },
  {
   "cell_type": "code",
   "execution_count": 20,
   "metadata": {},
   "outputs": [
    {
     "name": "stdout",
     "output_type": "stream",
     "text": [
      "1.117471570941734\n",
      "1.0477440812905532\n"
     ]
    }
   ],
   "source": [
    "print(train_error)\n",
    "print(test_error)"
   ]
  },
  {
   "cell_type": "markdown",
   "metadata": {},
   "source": [
    "## Add Momentum"
   ]
  },
  {
   "cell_type": "code",
   "execution_count": 25,
   "metadata": {
    "collapsed": true
   },
   "outputs": [],
   "source": [
    "def train(X_train,X_test,Y_train,Y_test,weights,epochs):\n",
    "    eta = 0.2\n",
    "    alpha = 0.01\n",
    "    momentum = 0\n",
    "    steps = 0\n",
    "    train_errors = []\n",
    "    test_errors = []\n",
    "    best_loss = 1000\n",
    "    best_test_loss = 1000\n",
    "    best_weights = []\n",
    "    gradients = []\n",
    "    train_count = 0 #count to keep track of train loss improvement\n",
    "    test_count = 0 #count to keep track of test loss improvement\n",
    "    for i in range(0,epochs):\n",
    "        steps += 1\n",
    "        p_train = predict(weights,X_train)\n",
    "        p_test = predict(weights,X_test)\n",
    "        train_loss = NLL(p_train,Y_train)\n",
    "        test_loss = NLL(p_test,Y_test)\n",
    "        if test_loss > best_test_loss:\n",
    "            test_count +=1\n",
    "           # if test_count == 25:\n",
    "           #     break\n",
    "        else:\n",
    "            best_test_loss = test_loss\n",
    "            test_count = 0\n",
    "            best_weights = weights\n",
    "        if train_loss > best_loss:\n",
    "            eta_count += 1\n",
    "            if eta_count == 20:\n",
    "                eta_count = 0\n",
    "                eta *= 0.5\n",
    "        else:\n",
    "            best_loss = train_loss\n",
    "            eta_count = 0\n",
    "        train_errors.append(train_loss)\n",
    "        test_errors.append(test_loss)\n",
    "        grad = gradient(p_train,Y_train,X_train)\n",
    "        wu = weight_update(weights,grad,eta)\n",
    "        momentum = momentum + alpha*wu\n",
    "        gradients.append(grad)\n",
    "        weights = weights+( wu+momentum*alpha)\n",
    "    return p_train,p_test,train_errors,test_errors, best_weights, gradients, steps, weights"
   ]
  },
  {
   "cell_type": "code",
   "execution_count": 26,
   "metadata": {},
   "outputs": [
    {
     "name": "stdout",
     "output_type": "stream",
     "text": [
      "30.33324694633484\n"
     ]
    }
   ],
   "source": [
    "import time\n",
    "weights = np.random.standard_normal((28,28))\n",
    "start = time.time()\n",
    "p_train,p_test, train_errors,test_errors,best_weights,gradients,steps,weights = train(X_train,X_test,Y_train,Y_test,weights,300)\n",
    "end = time.time()\n",
    "print(end - start)"
   ]
  },
  {
   "cell_type": "code",
   "execution_count": 28,
   "metadata": {},
   "outputs": [
    {
     "data": {
      "image/png": "[encoded data removed]",
      "text/plain": [
       "<Figure size 432x288 with 1 Axes>"
      ]
     },
     "metadata": {},
     "output_type": "display_data"
    }
   ],
   "source": [
    "epochs = np.arange(300)\n",
    "plt.plot(epochs,train_errors,color=\"red\", label = \"train\")\n",
    "plt.plot(epochs,test_errors,color=\"green\",label = \"test\")\n",
    "plt.xlabel(\"Epoch\")\n",
    "plt.ylabel(\"Error\")\n",
    "plt.legend()\n",
    "plt.show()"
   ]
  },
  {
   "cell_type": "code",
   "execution_count": 31,
   "metadata": {
    "collapsed": true
   },
   "outputs": [],
   "source": [
    "p_train = predict(best_weights,X_train)\n",
    "p_test = predict(best_weights,X_test)"
   ]
  },
  {
   "cell_type": "code",
   "execution_count": 32,
   "metadata": {
    "collapsed": true
   },
   "outputs": [],
   "source": [
    "train_error = NLL(p_train,Y_train)\n",
    "test_error = NLL(p_test,Y_test)"
   ]
  },
  {
   "cell_type": "code",
   "execution_count": 33,
   "metadata": {},
   "outputs": [
    {
     "name": "stdout",
     "output_type": "stream",
     "text": [
      "1.060975054192515\n",
      "1.0994263861524123\n"
     ]
    }
   ],
   "source": [
    "print(train_error)\n",
    "print(test_error)"
   ]
  },
  {
   "cell_type": "markdown",
   "metadata": {},
   "source": [
    "## Weight decay "
   ]
  },
  {
   "cell_type": "code",
   "execution_count": 34,
   "metadata": {},
   "outputs": [],
   "source": [
    "def gradient(predictions,targets,inputs,lamda, w):\n",
    "    grad = [np.multiply((predictions[n]-targets[n]),inputs[n]) + np.multiply((lamda/n),w) for n in predictions.shape[0]]\n",
    "    return np.multiply((1/predictions.shape[0]),np.sum(grad,axis=2))"
   ]
  },
  {
   "cell_type": "code",
   "execution_count": null,
   "metadata": {
    "collapsed": true
   },
   "outputs": [],
   "source": [
    "def train(X_train,X_test,Y_train,Y_test,weights,epochs,lamda):\n",
    "    eta = 0.2\n",
    "    alpha = 0.01\n",
    "    momentum = 0\n",
    "    steps = 0\n",
    "    train_errors = []\n",
    "    test_errors = []\n",
    "    best_loss = 1000\n",
    "    best_test_loss = 1000\n",
    "    best_weights = []\n",
    "    gradients = []\n",
    "    train_count = 0 #count to keep track of train loss improvement\n",
    "    test_count = 0 #count to keep track of test loss improvement\n",
    "    for i in range(0,epochs):\n",
    "        steps += 1\n",
    "        p_train = predict(weights,X_train)\n",
    "        p_test = predict(weights,X_test)\n",
    "        train_loss = NLL(p_train,Y_train)\n",
    "        test_loss = NLL(p_test,Y_test)\n",
    "        if test_loss > best_test_loss:\n",
    "            test_count +=1\n",
    "           # if test_count == 25:\n",
    "           #     break\n",
    "        else:\n",
    "            best_test_loss = test_loss\n",
    "            test_count = 0\n",
    "            best_weights = weights\n",
    "        if train_loss > best_loss:\n",
    "            eta_count += 1\n",
    "            if eta_count == 20:\n",
    "                eta_count = 0\n",
    "                eta *= 0.5\n",
    "        else:\n",
    "            best_loss = train_loss\n",
    "            eta_count = 0\n",
    "        train_errors.append(train_loss)\n",
    "        test_errors.append(test_loss)\n",
    "        grad = gradient(p_train,Y_train,X_train,lamda,)\n",
    "        wu = weight_update(weights,grad,eta)\n",
    "        momentum = momentum + alpha*wu\n",
    "        gradients.append(grad)\n",
    "        weights = weights+( wu+momentum*alpha)\n",
    "    return p_train,p_test,train_errors,test_errors, best_weights, gradients, steps, weights"
   ]
  },
  {
   "cell_type": "code",
   "execution_count": null,
   "metadata": {
    "collapsed": true
   },
   "outputs": [],
   "source": [
    "import time\n",
    "weights = np.random.standard_normal((28,28))\n",
    "start = time.time()\n",
    "p_train,p_test, train_errors,test_errors,best_weights,gradients,steps,weights = train(X_train,X_test,Y_train,Y_test,weights,300)\n",
    "end = time.time()\n",
    "print(end - start)"
   ]
  },
  {
   "cell_type": "code",
   "execution_count": null,
   "metadata": {
    "collapsed": true
   },
   "outputs": [],
   "source": [
    "epochs = np.arange(300)\n",
    "plt.plot(epochs,train_errors,color=\"red\", label = \"train\")\n",
    "plt.plot(epochs,test_errors,color=\"green\",label = \"test\")\n",
    "plt.xlabel(\"Epoch\")\n",
    "plt.ylabel(\"Error\")\n",
    "plt.legend()\n",
    "plt.show()"
   ]
  },
  {
   "cell_type": "code",
   "execution_count": null,
   "metadata": {
    "collapsed": true
   },
   "outputs": [],
   "source": [
    "p_train = predict(best_weights,X_train)\n",
    "p_test = predict(best_weights,X_test)\n",
    "train_error = NLL(p_train,Y_train)\n",
    "test_error = NLL(p_test,Y_test\n",
    "print(train_error)\n",
    "print(test_error)"
   ]
  },
  {
   "cell_type": "code",
   "execution_count": null,
   "metadata": {
    "collapsed": true
   },
   "outputs": [],
   "source": []
  },
  {
   "cell_type": "code",
   "execution_count": null,
   "metadata": {
    "collapsed": true
   },
   "outputs": [],
   "source": []
  }
 ],
 "metadata": {
  "kernelspec": {
   "display_name": "Python 3",
   "language": "python",
   "name": "python3"
  },
  "language_info": {
   "codemirror_mode": {
    "name": "ipython",
    "version": 3
   },
   "file_extension": ".py",
   "mimetype": "text/x-python",
   "name": "python",
   "nbconvert_exporter": "python",
   "pygments_lexer": "ipython3",
   "version": "3.6.8"
  }
 },
 "nbformat": 4,
 "nbformat_minor": 2
}
