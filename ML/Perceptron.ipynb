{
 "cells": [
  {
   "cell_type": "markdown",
   "metadata": {},
   "source": [
    "## Simple Perceptron\n"
   ]
  },
  {
   "cell_type": "code",
   "execution_count": 288,
   "metadata": {
    "collapsed": true
   },
   "outputs": [],
   "source": [
    "n = 50 #how many dimensions a p has\n",
    "import numpy as np\n"
   ]
  },
  {
   "cell_type": "code",
   "execution_count": 289,
   "metadata": {
    "collapsed": true
   },
   "outputs": [],
   "source": [
    "def converged(inputs,targets,weights):\n",
    "    update = []\n",
    "    for inp,tar in zip(inputs,targets):\n",
    "        z = np.multiply(inp,tar)\n",
    "        up = np.dot(-weights.T,z)\n",
    "        up = np.where(up>=0,1,0)\n",
    "        update.append(up)\n",
    "    return np.array(update)"
   ]
  },
  {
   "cell_type": "code",
   "execution_count": 386,
   "metadata": {
    "collapsed": true
   },
   "outputs": [],
   "source": [
    "def train_predict(inputs,targets,weights):\n",
    "    steps = 0\n",
    "    update = np.ones(inputs.shape[0])\n",
    "    while steps < 4000 and update.any() > 0:\n",
    "        update = converged(inputs,targets,weights)\n",
    "        weights = weights + 0.1 * np.dot(update, np.multiply(inputs.T,targets).T)\n",
    "        steps +=1\n",
    "    return update, steps, weights"
   ]
  },
  {
   "cell_type": "code",
   "execution_count": 387,
   "metadata": {
    "collapsed": true
   },
   "outputs": [],
   "source": [
    "ps = np.arange(20,150,20)"
   ]
  },
  {
   "cell_type": "code",
   "execution_count": 388,
   "metadata": {
    "collapsed": true
   },
   "outputs": [],
   "source": [
    "def make_data(p,n):\n",
    "    inputs = []\n",
    "    targets = []\n",
    "    for i in range(p):\n",
    "        vector = np.sign(np.random.choice([-1,1],size=n))\n",
    "        target = np.random.choice([-1,1],size=p)\n",
    "        inputs.append(vector)\n",
    "        targets.append(target[0])\n",
    "    weights = np.full(50,0.0)\n",
    "    return np.array(inputs), np.array(targets), weights"
   ]
  },
  {
   "cell_type": "code",
   "execution_count": 389,
   "metadata": {
    "collapsed": true
   },
   "outputs": [],
   "source": [
    "def evaluate(inputs,weights):\n",
    "    outputs = []\n",
    "    for i in inputs:\n",
    "        outputs.append(np.sign(np.dot(i,weights)))\n",
    "    return np.array(outputs)"
   ]
  },
  {
   "cell_type": "code",
   "execution_count": 397,
   "metadata": {},
   "outputs": [
    {
     "name": "stdout",
     "output_type": "stream",
     "text": [
      "20\n",
      "40\n",
      "60\n",
      "80\n",
      "100\n",
      "120\n",
      "140\n"
     ]
    }
   ],
   "source": [
    "works = []\n",
    "for p in ps: \n",
    "    correct = 0\n",
    "    print(p)\n",
    "    for i in range(0,10):\n",
    "        inputs, targets, weights = make_data(p,n)\n",
    "        update, steps, weights= train_predict(inputs,targets,weights)\n",
    "        outputs = evaluate(inputs,weights)\n",
    "        if (outputs == targets).all():\n",
    "        #if update.all() == 0:\n",
    "            correct +=1\n",
    "    works.append(correct)"
   ]
  },
  {
   "cell_type": "code",
   "execution_count": 398,
   "metadata": {},
   "outputs": [
    {
     "name": "stdout",
     "output_type": "stream",
     "text": [
      "[10, 10, 10, 9, 3, 1, 0]\n"
     ]
    }
   ],
   "source": [
    "print(works)"
   ]
  },
  {
   "cell_type": "code",
   "execution_count": 399,
   "metadata": {
    "collapsed": true
   },
   "outputs": [],
   "source": [
    "import matplotlib.pyplot as plt"
   ]
  },
  {
   "cell_type": "code",
   "execution_count": 400,
   "metadata": {},
   "outputs": [
    {
     "data": {
      "image/png": "[encoded data removed]",
      "text/plain": [
       "<Figure size 432x288 with 1 Axes>"
      ]
     },
     "metadata": {},
     "output_type": "display_data"
    }
   ],
   "source": [
    "plt.plot(ps,works)\n",
    "plt.show()"
   ]
  }
 ],
 "metadata": {
  "kernelspec": {
   "display_name": "Python 3",
   "language": "python",
   "name": "python3"
  },
  "language_info": {
   "codemirror_mode": {
    "name": "ipython",
    "version": 3
   },
   "file_extension": ".py",
   "mimetype": "text/x-python",
   "name": "python",
   "nbconvert_exporter": "python",
   "pygments_lexer": "ipython3",
   "version": "3.6.8"
  }
 },
 "nbformat": 4,
 "nbformat_minor": 2
}
